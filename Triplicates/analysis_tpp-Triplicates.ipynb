{
 "cells": [
  {
   "cell_type": "code",
   "execution_count": 1,
   "metadata": {
    "collapsed": true
   },
   "outputs": [],
   "source": [
    "import pandas as pd\n",
    "import numpy as np"
   ]
  },
  {
   "cell_type": "code",
   "execution_count": 2,
   "metadata": {
    "collapsed": false
   },
   "outputs": [],
   "source": [
    "path='../Result_trip/'\n",
    "ctrl1=pd.read_csv(path+'ctrl1_fitting.csv',low_memory=False)\n",
    "ctrl2=pd.read_csv(path+'ctrl2_fitting.csv',low_memory=False)\n",
    "ctrl3=pd.read_csv(path+'ctrl3_fitting.csv',low_memory=False)\n",
    "treated1=pd.read_csv(path+'treated1_fitting.csv',low_memory=False)\n",
    "treated2=pd.read_csv(path+'treated2_fitting.csv',low_memory=False)\n",
    "treated3=pd.read_csv(path+'treated3_fitting.csv',low_memory=False)\n",
    "ctrl1.loc[ctrl1[(ctrl1['ctrl1_R']<0.8) | (ctrl1['ctrl1_Pl']>0.3)].index,ctrl1.columns[4:]]=float('nan')\n",
    "ctrl2.loc[ctrl2[(ctrl2['ctrl2_R']<0.8) | (ctrl2['ctrl2_Pl']>0.3)].index,ctrl2.columns[4:]]=float('nan')\n",
    "ctrl3.loc[ctrl3[(ctrl3['ctrl3_R']<0.8) | (ctrl3['ctrl3_Pl']>0.3)].index,ctrl3.columns[4:]]=float('nan')\n",
    "treated1.loc[treated1[treated1['treated1_R']<0.8].index,treated1.columns[4:]]=float('nan')\n",
    "treated2.loc[treated2[treated2['treated2_R']<0.8].index,treated2.columns[4:]]=float('nan')\n",
    "treated3.loc[treated3[treated3['treated3_R']<0.8].index,treated3.columns[4:]]=float('nan')"
   ]
  },
  {
   "cell_type": "code",
   "execution_count": 14,
   "metadata": {
    "collapsed": false
   },
   "outputs": [],
   "source": [
    "diff_rep1 = pd.DataFrame(index=range(0,ctrl1.shape[0]))\n",
    "diff_rep1['diff_rep1'] = treated1['treated1_min']-ctrl1['ctrl1_min']\n",
    "diff_rep1['slope_rep1'] = np.fmin(ctrl1['ctrl1_slope'],treated1['treated1_slope'])\n",
    "diff_rep1=pd.concat([ctrl1[['Sequence','Protein_Group_Accessions']],diff_rep1],1)\n",
    "diff_rep2 = pd.DataFrame(index=range(0,ctrl2.shape[0]))\n",
    "diff_rep2['diff_rep2'] = treated2['treated2_min']-ctrl2['ctrl2_min']\n",
    "diff_rep2['slope_rep2'] = np.fmin(ctrl2['ctrl2_slope'],treated2['treated2_slope'])\n",
    "diff_rep2=pd.concat([ctrl2[['Sequence','Protein_Group_Accessions']],diff_rep2],1)\n",
    "diff_rep3 = pd.DataFrame(index=range(0,ctrl3.shape[0]))\n",
    "diff_rep3['diff_rep3'] = treated3['treated3_min']-ctrl3['ctrl3_min']\n",
    "diff_rep3['slope_rep3'] = np.minimum(ctrl3['ctrl3_slope'],treated3['treated3_slope'])\n",
    "diff_rep3=pd.concat([ctrl3[['Sequence','Protein_Group_Accessions']],diff_rep3],1)"
   ]
  },
  {
   "cell_type": "code",
   "execution_count": 15,
   "metadata": {
    "collapsed": false
   },
   "outputs": [],
   "source": [
    "def combine_col(df,string):\n",
    "    df1 = pd.DataFrame(index=range(0,df.shape[0]))\n",
    "    df1['mp_'+string]=df[string+'_min']\n",
    "    df1=pd.concat([df[df.columns[1:3]],df1,df[df.columns[3:13]]],1)\n",
    "    return df1"
   ]
  },
  {
   "cell_type": "code",
   "execution_count": 16,
   "metadata": {
    "collapsed": false
   },
   "outputs": [],
   "source": [
    "ctrl1fit=combine_col(ctrl1,'ctrl1')\n",
    "ctrl2fit=combine_col(ctrl2,'ctrl2')\n",
    "ctrl3fit=combine_col(ctrl3,'ctrl3')\n",
    "treated1fit=combine_col(treated1,'treated1')\n",
    "treated2fit=combine_col(treated2,'treated2')\n",
    "treated3fit=combine_col(treated3,'treated3')"
   ]
  },
  {
   "cell_type": "code",
   "execution_count": 17,
   "metadata": {
    "collapsed": false
   },
   "outputs": [],
   "source": [
    "result=ctrl1fit.merge(treated1fit,on=[\"Sequence\", \"Protein_Group_Accessions\"]).merge(ctrl2fit,on=[\"Sequence\", \"Protein_Group_Accessions\"])\\\n",
    ".merge(treated2fit,on=[\"Sequence\", \"Protein_Group_Accessions\"]).merge(ctrl3fit,on=[\"Sequence\", \"Protein_Group_Accessions\"])\\\n",
    ".merge(treated3fit,on=[\"Sequence\", \"Protein_Group_Accessions\"]).merge(diff_rep1,on=[\"Sequence\", \"Protein_Group_Accessions\"])\\\n",
    ".merge(diff_rep2,on=[\"Sequence\", \"Protein_Group_Accessions\"]).merge(diff_rep3,on=[\"Sequence\", \"Protein_Group_Accessions\"])\n",
    "\n",
    "result.to_csv(path+'peptides_fit.csv',index=False)"
   ]
  },
  {
   "cell_type": "code",
   "execution_count": null,
   "metadata": {
    "collapsed": true
   },
   "outputs": [],
   "source": []
  }
 ],
 "metadata": {
  "kernelspec": {
   "display_name": "Python 2",
   "language": "python",
   "name": "python2"
  },
  "language_info": {
   "codemirror_mode": {
    "name": "ipython",
    "version": 2
   },
   "file_extension": ".py",
   "mimetype": "text/x-python",
   "name": "python",
   "nbconvert_exporter": "python",
   "pygments_lexer": "ipython2",
   "version": "2.7.12"
  }
 },
 "nbformat": 4,
 "nbformat_minor": 1
}
