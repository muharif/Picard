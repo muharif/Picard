{
 "cells": [
  {
   "cell_type": "code",
   "execution_count": 35,
   "metadata": {
    "collapsed": false
   },
   "outputs": [],
   "source": [
    "import pandas as pd\n",
    "import numpy as np\n",
    "import math\n",
    "from scipy.stats import norm\n",
    "from statsmodels.sandbox.stats.multicomp import multipletests\n",
    "from collections import OrderedDict"
   ]
  },
  {
   "cell_type": "code",
   "execution_count": 50,
   "metadata": {
    "collapsed": false
   },
   "outputs": [],
   "source": [
    "path='../Result_trip/'\n",
    "ctrl1=pd.read_csv(path+'ctrl1_fitting_aggr.csv',low_memory=False)\n",
    "ctrl2=pd.read_csv(path+'ctrl2_fitting_aggr.csv',low_memory=False)\n",
    "ctrl3=pd.read_csv(path+'ctrl3_fitting_aggr.csv',low_memory=False)\n",
    "treated1=pd.read_csv(path+'treated1_fitting_aggr.csv',low_memory=False)\n",
    "treated2=pd.read_csv(path+'treated2_fitting_aggr.csv',low_memory=False)\n",
    "treated3=pd.read_csv(path+'treated3_fitting_aggr.csv',low_memory=False)\n",
    "\n",
    "Pgroups=pd.read_csv(path+'Pgroups.csv')\n",
    "\n",
    "ctrl1.loc[ctrl1[(ctrl1['ctrl1_R']<0.8) | (ctrl1['ctrl1_Pl']>0.3)].index,ctrl1.columns[4:]]=float('nan')\n",
    "ctrl2.loc[ctrl2[(ctrl2['ctrl2_R']<0.8) | (ctrl2['ctrl2_Pl']>0.3)].index,ctrl2.columns[4:]]=float('nan')\n",
    "ctrl3.loc[ctrl3[(ctrl3['ctrl3_R']<0.8) | (ctrl3['ctrl3_Pl']>0.3)].index,ctrl3.columns[4:]]=float('nan')\n",
    "\n",
    "treated1.loc[treated1[treated1['treated1_R']<0.8].index,treated1.columns[4:]]=float('nan')\n",
    "treated2.loc[treated2[treated2['treated2_R']<0.8].index,treated2.columns[4:]]=float('nan')\n",
    "treated3.loc[treated3[treated3['treated3_R']<0.8].index,treated3.columns[4:]]=float('nan')"
   ]
  },
  {
   "cell_type": "code",
   "execution_count": 51,
   "metadata": {
    "collapsed": false
   },
   "outputs": [],
   "source": [
    "diff_rep1 = pd.DataFrame(index=range(0,ctrl1.shape[0]))\n",
    "diff_rep1['diff_rep1'] = treated1['treated1_min']-ctrl1['ctrl1_min']\n",
    "diff_rep1['slope_rep1'] = np.fmin(ctrl1['ctrl1_slope'],treated1['treated1_slope'])\n",
    "diff_rep2 = pd.DataFrame(index=range(0,ctrl2.shape[0]))\n",
    "diff_rep2['diff_rep2'] = treated2['treated2_min']-ctrl2['ctrl2_min']\n",
    "diff_rep2['slope_rep2'] = np.fmin(ctrl2['ctrl2_slope'],treated2['treated2_slope'])\n",
    "diff_rep3 = pd.DataFrame(index=range(0,ctrl3.shape[0]))\n",
    "diff_rep3['diff_rep3'] = treated3['treated3_min']-ctrl3['ctrl3_min']\n",
    "diff_rep3['slope_rep3'] = np.minimum(ctrl3['ctrl3_slope'],treated3['treated3_slope'])"
   ]
  },
  {
   "cell_type": "code",
   "execution_count": 52,
   "metadata": {
    "collapsed": false
   },
   "outputs": [],
   "source": [
    "def correct_fdr(p_values):\n",
    "   p_values= {k:v for k,v in enumerate(p_values)}\n",
    "   n_comparison= len(p_values)\n",
    "   modifier= n_comparison\n",
    "\n",
    "   indexed_p_values= OrderedDict({(j[1],i):j[0] for i, j in enumerate(p_values.items())})\n",
    "\n",
    "   indexed_p_values= OrderedDict(sorted(indexed_p_values.items(), reverse=True))\n",
    "\n",
    "   for (value, i),ind in indexed_p_values.items():\n",
    "       new_value= p_values[ind] * n_comparison / float(modifier)\n",
    "\n",
    "       p_values[ind]= new_value if new_value <=1 else 1 \n",
    "       modifier -= 1 \n",
    "\n",
    "   fdr= [1]*len(p_values)\n",
    "\n",
    "   for i,value in p_values.iteritems():\n",
    "       fdr[i]= value \n",
    "\n",
    "   return fdr\n",
    "def combine_col(df,string):\n",
    "    df1=df[df.columns[0:13]]\n",
    "    df1['mp_'+string]=df[string+'_min'].tolist()\n",
    "    df1[string+'_slope']=df[string+'_slope'].tolist()\n",
    "    return df1\n",
    "def diff_rep(df1,string,groupname):\n",
    "    use_me=list(df1['slope_' + string].dropna().index)\n",
    "    slope_rep1=df1.ix[use_me]['slope_' + string].sort_values(ascending=False)\n",
    "    slope_order=slope_rep1.index\n",
    "    diff_re=df1.ix[slope_order]['diff_' + string]\n",
    "    diff_quant = []\n",
    "    diff_z = [float('nan')]*len(diff_re)\n",
    "    bin_size=300\n",
    "    for i in range(0,int(np.floor(len(diff_re)/bin_size))):\n",
    "        if len(diff_re) - bin_size*(i+1) < bin_size:\n",
    "            y = len(diff_re)\n",
    "        else:\n",
    "            y = bin_size * (i+1)\n",
    "        l = diff_re.iloc[(bin_size*(i)): y].quantile([.1587, .50, .8413])\n",
    "        for j in range((bin_size*(i)),y):\n",
    "            if (np.isnan(diff_re.iloc[j])):\n",
    "                diff_z[j] =float('nan')\n",
    "            elif (diff_re.iloc[j] < l.ix[.50]):\n",
    "                diff_z[j] = (l.ix[.50] - diff_re.iloc[j])/(l.ix[.50]-l.ix[.1587])\n",
    "            else:\n",
    "                diff_z[j] = (diff_re.iloc[j]-l.ix[.50])/(l.ix[.8413]-l.ix[.50])\n",
    "        diff_quant.append(l.tolist())\n",
    "    diff_z_abs=map(abs,diff_z)\n",
    "    diff_prob=1-norm.cdf(np.abs(diff_z))\n",
    "    diff_prob1=[i for i in range(0,len(diff_prob)) if not(np.isnan(diff_prob[i]))]\n",
    "    diff_prob2=[diff_prob[i] for i in diff_prob1]\n",
    "    diff_prob2=multipletests(diff_prob2,method='fdr_bh')[1]\n",
    "    for i in range(0,len(diff_prob1)):\n",
    "        diff_prob[diff_prob1[i]]=diff_prob2[i]\n",
    "    groupname=groupname.reset_index(drop=True)\n",
    "    names=groupname.ix[use_me]\n",
    "    df2 = pd.concat([names.ix[slope_order],df1.ix[slope_order]['diff_'+string]],1)\n",
    "    df2['diff_z_'+string]=diff_z\n",
    "    df2['diff_prob_'+string]=diff_prob\n",
    "    df2= pd.concat([df2,slope_rep1.ix[slope_order]],1)\n",
    "    return df2\n",
    "\n",
    "def diff_repAll(df1,string,groupname):\n",
    "    use_me=list(df1['slope_' + string].dropna().index)\n",
    "    slope_rep1=df1.ix[use_me]['slope_' + string].sort_values(ascending=False)\n",
    "    slope_order=slope_rep1.index\n",
    "    diff_re=df1.ix[slope_order]['diff_' + string]\n",
    "    diff_quant = []\n",
    "    diff_z = [float('nan')]*len(diff_re)\n",
    "    l = diff_re.quantile([.1587, .50, .8413])\n",
    "    for j in range(0,len(diff_re)):\n",
    "        if (np.isnan(diff_re.iloc[j])):\n",
    "            diff_z[j] =float('nan')\n",
    "        elif (diff_re.iloc[j] < l.ix[.50]):\n",
    "            diff_z[j] = (l.ix[.50] - diff_re.iloc[j])/(l.ix[.50]-l.ix[.1587])\n",
    "        else:\n",
    "            diff_z[j] = (diff_re.iloc[j]-l.ix[.50])/(l.ix[.8413]-l.ix[.50])\n",
    "    diff_quant.append(l.tolist())\n",
    "    diff_z_abs=map(abs,diff_z)\n",
    "    diff_prob=1-norm.cdf(np.abs(diff_z))\n",
    "    diff_prob1=[i for i in range(0,len(diff_prob)) if not(np.isnan(diff_prob[i]))]\n",
    "    diff_prob2=[diff_prob[i] for i in diff_prob1]\n",
    "    diff_prob2=multipletests(diff_prob2,method='fdr_bh')[1]\n",
    "    for i in range(0,len(diff_prob1)):\n",
    "        diff_prob[diff_prob1[i]]=diff_prob2[i]\n",
    "    groupname=groupname.reset_index(drop=True)\n",
    "    names=groupname.ix[use_me]\n",
    "    df2 = pd.concat([names.ix[slope_order],df1.ix[slope_order]['diff_'+string]],1)\n",
    "    df2['diff_z_'+string]=diff_z\n",
    "    df2['diff_prob_'+string]=diff_prob\n",
    "    df2= pd.concat([df2,slope_rep1.ix[slope_order]],1)\n",
    "    return slope_order"
   ]
  },
  {
   "cell_type": "code",
   "execution_count": 53,
   "metadata": {
    "collapsed": false
   },
   "outputs": [],
   "source": [
    "diff_rep1=diff_rep(diff_rep1,'rep1',Pgroups)\n",
    "diff_rep2=diff_rep(diff_rep2,'rep2',Pgroups)\n",
    "diff_rep3=diff_rep(diff_rep3,'rep3',Pgroups)"
   ]
  },
  {
   "cell_type": "code",
   "execution_count": 40,
   "metadata": {
    "collapsed": false
   },
   "outputs": [
    {
     "name": "stderr",
     "output_type": "stream",
     "text": [
      "/usr/local/lib/python2.7/site-packages/ipykernel/__main__.py:24: SettingWithCopyWarning: \n",
      "A value is trying to be set on a copy of a slice from a DataFrame.\n",
      "Try using .loc[row_indexer,col_indexer] = value instead\n",
      "\n",
      "See the caveats in the documentation: http://pandas.pydata.org/pandas-docs/stable/indexing.html#indexing-view-versus-copy\n",
      "/usr/local/lib/python2.7/site-packages/ipykernel/__main__.py:25: SettingWithCopyWarning: \n",
      "A value is trying to be set on a copy of a slice from a DataFrame.\n",
      "Try using .loc[row_indexer,col_indexer] = value instead\n",
      "\n",
      "See the caveats in the documentation: http://pandas.pydata.org/pandas-docs/stable/indexing.html#indexing-view-versus-copy\n"
     ]
    }
   ],
   "source": [
    "ctrl1fit=combine_col(ctrl1,'ctrl1')\n",
    "ctrl2fit=combine_col(ctrl2,'ctrl2')\n",
    "ctrl3fit=combine_col(ctrl3,'ctrl3')\n",
    "treated1fit=combine_col(treated1,'treated1')\n",
    "treated2fit=combine_col(treated2,'treated2')\n",
    "treated3fit=combine_col(treated3,'treated3')"
   ]
  },
  {
   "cell_type": "code",
   "execution_count": 41,
   "metadata": {
    "collapsed": false
   },
   "outputs": [],
   "source": [
    "# result=ctrl1fit.merge(treated1fit,on=[\"Protein Group Accessions\", \"Gene_Name\", \"Protein_Description\"]).merge(ctrl2fit,on=[\"Protein Group Accessions\", \"Gene_Name\", \"Protein_Description\"])\\\n",
    "# .merge(treated2fit,on=[\"Protein Group Accessions\", \"Gene_Name\", \"Protein_Description\"]).merge(diff_rep1,on=[\"Protein Group Accessions\", \"Gene_Name\", \"Protein_Description\"])\\\n",
    "# .merge(diff_rep2,on=[\"Protein Group Accessions\", \"Gene_Name\", \"Protein_Description\"])\n",
    "\n",
    "result=ctrl1fit.merge(treated1fit,on=[\"Protein Group Accessions\", \"Gene_Name\", \"Protein_Description\"]).merge(ctrl2fit,on=[\"Protein Group Accessions\", \"Gene_Name\", \"Protein_Description\"])\\\n",
    ".merge(treated2fit,on=[\"Protein Group Accessions\", \"Gene_Name\", \"Protein_Description\"]).merge(ctrl3fit,on=[\"Protein Group Accessions\", \"Gene_Name\", \"Protein_Description\"])\\\n",
    ".merge(treated3fit,on=[\"Protein Group Accessions\", \"Gene_Name\", \"Protein_Description\"]).merge(diff_rep1,on=[\"Protein Group Accessions\", \"Gene_Name\", \"Protein_Description\"])\\\n",
    ".merge(diff_rep2,on=[\"Protein Group Accessions\", \"Gene_Name\", \"Protein_Description\"]).merge(diff_rep3,on=[\"Protein Group Accessions\", \"Gene_Name\", \"Protein_Description\"])\n",
    "\n",
    "result.to_csv(path+'peptides_fit_aggr.csv',index=False)"
   ]
  },
  {
   "cell_type": "code",
   "execution_count": 42,
   "metadata": {
    "collapsed": false
   },
   "outputs": [
    {
     "name": "stderr",
     "output_type": "stream",
     "text": [
      "/usr/local/lib/python2.7/site-packages/ipykernel/__main__.py:3: RuntimeWarning: invalid value encountered in greater\n",
      "  app.launch_new_instance()\n"
     ]
    }
   ],
   "source": [
    "same_thermal_shift_direction = (((result['diff_rep1'] < 0) & (result['diff_rep2'] < 0)) & (result['diff_rep3'] < 0)) | (((result['diff_rep1'] > 0) & (result['diff_rep2'] > 0)) & (result['diff_rep3'] > 0))\n",
    "slope_steep_enough = (result['slope_rep1'] < -0.06) | (result['slope_rep2'] < -0.06) | (result['slope_rep2'] < -0.06)\n",
    "thermal_shift_greater_than_difference_vehicle = np.fmin(np.fmin(map(abs,result['diff_rep1']),map(abs,result['diff_rep2'])),map(abs,result['diff_rep2'])) > np.fmax(np.fmax((map(abs,result['mp_ctrl1']-result['mp_ctrl2'])),(map(abs,result['mp_ctrl1']-result['mp_ctrl3']))),(map(abs,result['mp_ctrl3']-result['mp_ctrl2'])))\n",
    "pval=0.05\n",
    "x = result[\"diff_prob_rep1\"] < pval\n",
    "y = result[\"diff_prob_rep2\"] < pval\n",
    "z = result[\"diff_prob_rep3\"] < pval\n",
    "pvalue_criteria3 = ((x == True) & (y == True)) &  (z==True)\n",
    "pvalue_criteria2 = ((x == True) & (y == True)) |  ((x == True) & (z == True)) |  ((y == True) & (z == True))\n",
    "fulfills_all =  (same_thermal_shift_direction==True)  & (thermal_shift_greater_than_difference_vehicle == True) & (pvalue_criteria2==True) & (slope_steep_enough==True)\n",
    "in_both_replicates = ((~np.isnan(result[\"diff_rep1\"])) & (~np.isnan(result[\"diff_rep2\"]))) & (~np.isnan(result[\"diff_rep3\"]))"
   ]
  },
  {
   "cell_type": "code",
   "execution_count": 43,
   "metadata": {
    "collapsed": false
   },
   "outputs": [],
   "source": [
    "criteria=pd.concat([same_thermal_shift_direction, slope_steep_enough, in_both_replicates,pd.Series(thermal_shift_greater_than_difference_vehicle), pvalue_criteria2, pvalue_criteria3,fulfills_all],1)\n",
    "criteria=criteria.fillna(False)\n",
    "criteria.columns=['same_thermal_shift_direction', 'slope_steep_enough', 'in_both_replicates','thermal_shift_greater_than_difference_vehicle', 'pvalue_criteria2','pvalue_criteria3','fulfills_all']\n",
    "result=pd.concat([result,criteria],1)"
   ]
  },
  {
   "cell_type": "code",
   "execution_count": 63,
   "metadata": {
    "collapsed": true
   },
   "outputs": [],
   "source": [
    "res_temp=['O43865','Q9BYT8','P08238','Q9HCG8','Q58FF6','Q00796']"
   ]
  },
  {
   "cell_type": "code",
   "execution_count": 65,
   "metadata": {
    "collapsed": false
   },
   "outputs": [
    {
     "data": {
      "text/html": [
       "<div>\n",
       "<table border=\"1\" class=\"dataframe\">\n",
       "  <thead>\n",
       "    <tr style=\"text-align: right;\">\n",
       "      <th></th>\n",
       "      <th>Protein Group Accessions</th>\n",
       "      <th>Protein_Description</th>\n",
       "      <th>Gene_Name</th>\n",
       "      <th>ctrl1_37</th>\n",
       "      <th>ctrl1_40</th>\n",
       "      <th>ctrl1_43</th>\n",
       "      <th>ctrl1_46</th>\n",
       "      <th>ctrl1_49</th>\n",
       "      <th>ctrl1_52</th>\n",
       "      <th>ctrl1_55</th>\n",
       "      <th>...</th>\n",
       "      <th>diff_z_rep3</th>\n",
       "      <th>diff_prob_rep3</th>\n",
       "      <th>slope_rep3</th>\n",
       "      <th>same_thermal_shift_direction</th>\n",
       "      <th>slope_steep_enough</th>\n",
       "      <th>in_both_replicates</th>\n",
       "      <th>thermal_shift_greater_than_difference_vehicle</th>\n",
       "      <th>pvalue_criteria2</th>\n",
       "      <th>pvalue_criteria3</th>\n",
       "      <th>fulfills_all</th>\n",
       "    </tr>\n",
       "  </thead>\n",
       "  <tbody>\n",
       "  </tbody>\n",
       "</table>\n",
       "<p>0 rows × 94 columns</p>\n",
       "</div>"
      ],
      "text/plain": [
       "Empty DataFrame\n",
       "Columns: [Protein Group Accessions, Protein_Description, Gene_Name, ctrl1_37, ctrl1_40, ctrl1_43, ctrl1_46, ctrl1_49, ctrl1_52, ctrl1_55, ctrl1_58, ctrl1_61, ctrl1_64, mp_ctrl1, ctrl1_slope, treated1_37, treated1_40, treated1_43, treated1_46, treated1_49, treated1_52, treated1_55, treated1_58, treated1_61, treated1_64, mp_treated1, treated1_slope, ctrl2_37, ctrl2_40, ctrl2_43, ctrl2_46, ctrl2_49, ctrl2_52, ctrl2_55, ctrl2_58, ctrl2_61, ctrl2_64, mp_ctrl2, ctrl2_slope, treated2_37, treated2_40, treated2_43, treated2_46, treated2_49, treated2_52, treated2_55, treated2_58, treated2_61, treated2_64, mp_treated2, treated2_slope, ctrl3_37, ctrl3_40, ctrl3_43, ctrl3_46, ctrl3_49, ctrl3_52, ctrl3_55, ctrl3_58, ctrl3_61, ctrl3_64, mp_ctrl3, ctrl3_slope, treated3_37, treated3_40, treated3_43, treated3_46, treated3_49, treated3_52, treated3_55, treated3_58, treated3_61, treated3_64, mp_treated3, treated3_slope, diff_rep1, diff_z_rep1, diff_prob_rep1, slope_rep1, diff_rep2, diff_z_rep2, diff_prob_rep2, slope_rep2, diff_rep3, diff_z_rep3, diff_prob_rep3, slope_rep3, same_thermal_shift_direction, slope_steep_enough, in_both_replicates, thermal_shift_greater_than_difference_vehicle, pvalue_criteria2, pvalue_criteria3, fulfills_all]\n",
       "Index: []\n",
       "\n",
       "[0 rows x 94 columns]"
      ]
     },
     "execution_count": 65,
     "metadata": {},
     "output_type": "execute_result"
    }
   ],
   "source": [
    "result[(~(result['fulfills_all']==True))&(result['Protein Group Accessions'].isin(res_temp))]"
   ]
  },
  {
   "cell_type": "code",
   "execution_count": 62,
   "metadata": {
    "collapsed": true
   },
   "outputs": [
    {
     "data": {
      "text/html": [
       "<div>\n",
       "<table border=\"1\" class=\"dataframe\">\n",
       "  <thead>\n",
       "    <tr style=\"text-align: right;\">\n",
       "      <th></th>\n",
       "      <th>Protein Group Accessions</th>\n",
       "      <th>Protein_Description</th>\n",
       "      <th>diff_prob_rep1</th>\n",
       "      <th>diff_prob_rep2</th>\n",
       "      <th>diff_prob_rep3</th>\n",
       "      <th>pvalue_criteria3</th>\n",
       "    </tr>\n",
       "  </thead>\n",
       "  <tbody>\n",
       "    <tr>\n",
       "      <th>104</th>\n",
       "      <td>O43865</td>\n",
       "      <td>Putative adenosylhomocysteinase 2</td>\n",
       "      <td>8.087182e-04</td>\n",
       "      <td>0.000129</td>\n",
       "      <td>0.001089</td>\n",
       "      <td>True</td>\n",
       "    </tr>\n",
       "    <tr>\n",
       "      <th>268</th>\n",
       "      <td>P08238</td>\n",
       "      <td>Heat shock protein HSP 90-beta</td>\n",
       "      <td>3.497356e-02</td>\n",
       "      <td>0.030638</td>\n",
       "      <td>0.142328</td>\n",
       "      <td>False</td>\n",
       "    </tr>\n",
       "    <tr>\n",
       "      <th>780</th>\n",
       "      <td>Q00796</td>\n",
       "      <td>Sorbitol dehydrogenase</td>\n",
       "      <td>3.272292e-01</td>\n",
       "      <td>0.030638</td>\n",
       "      <td>0.033267</td>\n",
       "      <td>False</td>\n",
       "    </tr>\n",
       "    <tr>\n",
       "      <th>873</th>\n",
       "      <td>Q13823</td>\n",
       "      <td>Nucleolar GTP-binding protein 2</td>\n",
       "      <td>1.025302e-02</td>\n",
       "      <td>0.493923</td>\n",
       "      <td>0.017399</td>\n",
       "      <td>False</td>\n",
       "    </tr>\n",
       "    <tr>\n",
       "      <th>1004</th>\n",
       "      <td>Q58FF6</td>\n",
       "      <td>Putative heat shock protein HSP 90-beta 4</td>\n",
       "      <td>5.397912e-02</td>\n",
       "      <td>0.049805</td>\n",
       "      <td>0.024801</td>\n",
       "      <td>False</td>\n",
       "    </tr>\n",
       "    <tr>\n",
       "      <th>1222</th>\n",
       "      <td>Q8TDG2</td>\n",
       "      <td>Actin-related protein T1</td>\n",
       "      <td>3.275094e-08</td>\n",
       "      <td>0.000004</td>\n",
       "      <td>0.000477</td>\n",
       "      <td>True</td>\n",
       "    </tr>\n",
       "    <tr>\n",
       "      <th>1489</th>\n",
       "      <td>Q9BYT8</td>\n",
       "      <td>Neurolysin, mitochondrial</td>\n",
       "      <td>8.220131e-03</td>\n",
       "      <td>0.000534</td>\n",
       "      <td>0.010275</td>\n",
       "      <td>True</td>\n",
       "    </tr>\n",
       "    <tr>\n",
       "      <th>1595</th>\n",
       "      <td>Q9HCG8</td>\n",
       "      <td>Pre-mRNA-splicing factor CWC22 homolog</td>\n",
       "      <td>4.929949e-02</td>\n",
       "      <td>0.030638</td>\n",
       "      <td>0.010564</td>\n",
       "      <td>True</td>\n",
       "    </tr>\n",
       "    <tr>\n",
       "      <th>1813</th>\n",
       "      <td>Q9Y3L5</td>\n",
       "      <td>Ras-related protein Rap-2c</td>\n",
       "      <td>1.754186e-08</td>\n",
       "      <td>0.244425</td>\n",
       "      <td>0.044580</td>\n",
       "      <td>False</td>\n",
       "    </tr>\n",
       "  </tbody>\n",
       "</table>\n",
       "</div>"
      ],
      "text/plain": [
       "     Protein Group Accessions                        Protein_Description  \\\n",
       "104                    O43865          Putative adenosylhomocysteinase 2   \n",
       "268                    P08238             Heat shock protein HSP 90-beta   \n",
       "780                    Q00796                     Sorbitol dehydrogenase   \n",
       "873                    Q13823            Nucleolar GTP-binding protein 2   \n",
       "1004                   Q58FF6  Putative heat shock protein HSP 90-beta 4   \n",
       "1222                   Q8TDG2                   Actin-related protein T1   \n",
       "1489                   Q9BYT8                  Neurolysin, mitochondrial   \n",
       "1595                   Q9HCG8     Pre-mRNA-splicing factor CWC22 homolog   \n",
       "1813                   Q9Y3L5                 Ras-related protein Rap-2c   \n",
       "\n",
       "      diff_prob_rep1  diff_prob_rep2  diff_prob_rep3 pvalue_criteria3  \n",
       "104     8.087182e-04        0.000129        0.001089             True  \n",
       "268     3.497356e-02        0.030638        0.142328            False  \n",
       "780     3.272292e-01        0.030638        0.033267            False  \n",
       "873     1.025302e-02        0.493923        0.017399            False  \n",
       "1004    5.397912e-02        0.049805        0.024801            False  \n",
       "1222    3.275094e-08        0.000004        0.000477             True  \n",
       "1489    8.220131e-03        0.000534        0.010275             True  \n",
       "1595    4.929949e-02        0.030638        0.010564             True  \n",
       "1813    1.754186e-08        0.244425        0.044580            False  "
      ]
     },
     "execution_count": 62,
     "metadata": {},
     "output_type": "execute_result"
    }
   ],
   "source": [
    "# result[result['fulfills_all']==True][['Protein Group Accessions','mp_ctrl1','mp_treated1','mp_ctrl2','mp_treated2']]\n",
    "result[result['fulfills_all']==True][['Protein Group Accessions','Protein_Description','diff_prob_rep1','diff_prob_rep2','diff_prob_rep3','pvalue_criteria3']]\n",
    "\n",
    "# result[result['fulfills_all']==True][['Protein Group Accessions','Protein_Description','diff_rep1','diff_rep2','diff_rep3','same_thermal_shift_direction']]"
   ]
  },
  {
   "cell_type": "code",
   "execution_count": 11,
   "metadata": {
    "collapsed": false
   },
   "outputs": [],
   "source": [
    "result.to_csv(path+'result_aggr_end.csv',index=False)"
   ]
  }
 ],
 "metadata": {
  "kernelspec": {
   "display_name": "Python 2",
   "language": "python",
   "name": "python2"
  },
  "language_info": {
   "codemirror_mode": {
    "name": "ipython",
    "version": 2
   },
   "file_extension": ".py",
   "mimetype": "text/x-python",
   "name": "python",
   "nbconvert_exporter": "python",
   "pygments_lexer": "ipython2",
   "version": "2.7.12"
  }
 },
 "nbformat": 4,
 "nbformat_minor": 1
}
