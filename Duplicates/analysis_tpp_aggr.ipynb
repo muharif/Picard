{
 "cells": [
  {
   "cell_type": "code",
   "execution_count": null,
   "metadata": {
    "collapsed": false
   },
   "outputs": [],
   "source": [
    "import pandas as pd\n",
    "import numpy as np\n",
    "import math\n",
    "from scipy.stats import norm\n",
    "from statsmodels.sandbox.stats.multicomp import multipletests\n",
    "from collections import OrderedDict"
   ]
  },
  {
   "cell_type": "code",
   "execution_count": null,
   "metadata": {
    "collapsed": false
   },
   "outputs": [],
   "source": [
    "path='../Result_dup/'\n",
    "ctrl1=pd.read_csv(path+'ctrl1_fitting_aggr.csv',low_memory=False)\n",
    "ctrl2=pd.read_csv(path+'ctrl2_fitting_aggr.csv',low_memory=False)\n",
    "treated1=pd.read_csv(path+'treated1_fitting_aggr.csv',low_memory=False)\n",
    "treated2=pd.read_csv(path+'treated2_fitting_aggr.csv',low_memory=False)\n",
    "\n",
    "Pgroups=pd.read_csv(path+'Pgroups.csv')\n",
    "\n",
    "ctrl1.loc[ctrl1[(ctrl1['ctrl1_R']<0.8) | (ctrl1['ctrl1_Pl']>0.3)].index,ctrl1.columns[4:]]=float('nan')\n",
    "ctrl2.loc[ctrl2[(ctrl2['ctrl2_R']<0.8) | (ctrl2['ctrl2_Pl']>0.3)].index,ctrl2.columns[4:]]=float('nan')\n",
    "\n",
    "treated1.loc[treated1[treated1['treated1_R']<0.8].index,treated1.columns[4:]]=float('nan')\n",
    "treated2.loc[treated2[treated2['treated2_R']<0.8].index,treated2.columns[4:]]=float('nan')\n"
   ]
  },
  {
   "cell_type": "code",
   "execution_count": null,
   "metadata": {
    "collapsed": false
   },
   "outputs": [],
   "source": [
    "diff_rep1 = pd.DataFrame(index=range(0,ctrl1.shape[0]))\n",
    "diff_rep1['diff_rep1'] = treated1['treated1_min']-ctrl1['ctrl1_min']\n",
    "diff_rep1['slope_rep1'] = np.fmin(ctrl1['ctrl1_slope'],treated1['treated1_slope'])\n",
    "diff_rep2 = pd.DataFrame(index=range(0,ctrl2.shape[0]))\n",
    "diff_rep2['diff_rep2'] = treated2['treated2_min']-ctrl2['ctrl2_min']\n",
    "diff_rep2['slope_rep2'] = np.fmin(ctrl2['ctrl2_slope'],treated2['treated2_slope'])"
   ]
  },
  {
   "cell_type": "code",
   "execution_count": null,
   "metadata": {
    "collapsed": false
   },
   "outputs": [],
   "source": [
    "def correct_fdr(p_values):\n",
    "   p_values= {k:v for k,v in enumerate(p_values)}\n",
    "   n_comparison= len(p_values)\n",
    "   modifier= n_comparison\n",
    "\n",
    "   indexed_p_values= OrderedDict({(j[1],i):j[0] for i, j in enumerate(p_values.items())})\n",
    "\n",
    "   indexed_p_values= OrderedDict(sorted(indexed_p_values.items(), reverse=True))\n",
    "\n",
    "   for (value, i),ind in indexed_p_values.items():\n",
    "       new_value= p_values[ind] * n_comparison / float(modifier)\n",
    "\n",
    "       p_values[ind]= new_value if new_value <=1 else 1 \n",
    "       modifier -= 1 \n",
    "\n",
    "   fdr= [1]*len(p_values)\n",
    "\n",
    "   for i,value in p_values.iteritems():\n",
    "       fdr[i]= value \n",
    "\n",
    "   return fdr\n",
    "def combine_col(df,string):\n",
    "    df1=df[df.columns[0:13]]\n",
    "    df1['mp_'+string]=df[string+'_min'].tolist()\n",
    "    df1[string+'_slope']=df[string+'_slope'].tolist()\n",
    "    return df1\n",
    "def diff_rep(df1,string,groupname):\n",
    "    use_me=list(df1['slope_' + string].dropna().index)\n",
    "    slope_rep1=df1.ix[use_me]['slope_' + string].sort_values(ascending=False)\n",
    "    slope_order=slope_rep1.index\n",
    "    diff_re=df1.ix[slope_order]['diff_' + string]\n",
    "    diff_quant = []\n",
    "    diff_z = [float('nan')]*len(diff_re)\n",
    "    bin_size=300\n",
    "    for i in range(0,int(np.floor(len(diff_re)/bin_size))):\n",
    "        if len(diff_re) - bin_size*(i+1) < bin_size:\n",
    "            y = len(diff_re)\n",
    "        else:\n",
    "            y = bin_size * (i+1)\n",
    "        l = diff_re.iloc[(bin_size*(i)): y].quantile([.1587, .50, .8413])\n",
    "        for j in range((bin_size*(i)),y):\n",
    "            if j == 1267:\n",
    "                print('haha')\n",
    "            if (np.isnan(diff_re.iloc[j])):\n",
    "                diff_z[j] =float('nan')\n",
    "            elif (diff_re.iloc[j] < l.ix[.50]):\n",
    "                diff_z[j] = (l.ix[.50] - diff_re.iloc[j])/(l.ix[.50]-l.ix[.1587])\n",
    "            else:\n",
    "                diff_z[j] = (diff_re.iloc[j]-l.ix[.50])/(l.ix[.8413]-l.ix[.50])\n",
    "        diff_quant.append(l.tolist())\n",
    "    diff_z_abs=map(abs,diff_z)\n",
    "    diff_prob=1-norm.cdf(np.abs(diff_z))\n",
    "    diff_prob1=[i for i in range(0,len(diff_prob)) if not(np.isnan(diff_prob[i]))]\n",
    "    diff_prob2=[diff_prob[i] for i in diff_prob1]\n",
    "    diff_prob2=multipletests(diff_prob2,method='fdr_bh')[1]\n",
    "    for i in range(0,len(diff_prob1)):\n",
    "        diff_prob[diff_prob1[i]]=diff_prob2[i]\n",
    "    groupname=groupname.reset_index(drop=True)\n",
    "    names=groupname.ix[use_me]\n",
    "    df2 = pd.concat([names.ix[slope_order],df1.ix[slope_order]['diff_'+string]],1)\n",
    "    df2['diff_z_'+string]=diff_z\n",
    "    df2['diff_prob_'+string]=diff_prob\n",
    "    df2= pd.concat([df2,slope_rep1.ix[slope_order]],1)\n",
    "    return df2\n",
    "\n",
    "def diff_repAll(df1,string,groupname):\n",
    "    use_me=list(df1['slope_' + string].dropna().index)\n",
    "    slope_rep1=df1.ix[use_me]['slope_' + string].sort_values(ascending=False)\n",
    "    slope_order=slope_rep1.index\n",
    "    diff_re=df1.ix[slope_order]['diff_' + string]\n",
    "    diff_quant = []\n",
    "    diff_z = [float('nan')]*len(diff_re)\n",
    "    l = diff_re.quantile([.1587, .50, .8413])\n",
    "    for j in range(0,len(diff_re)):\n",
    "        if (np.isnan(diff_re.iloc[j])):\n",
    "            diff_z[j] =float('nan')\n",
    "        elif (diff_re.iloc[j] < l.ix[.50]):\n",
    "            diff_z[j] = (l.ix[.50] - diff_re.iloc[j])/(l.ix[.50]-l.ix[.1587])\n",
    "        else:\n",
    "            diff_z[j] = (diff_re.iloc[j]-l.ix[.50])/(l.ix[.8413]-l.ix[.50])\n",
    "    diff_quant.append(l.tolist())\n",
    "    diff_z_abs=map(abs,diff_z)\n",
    "    diff_prob=1-norm.cdf(np.abs(diff_z))\n",
    "    diff_prob1=[i for i in range(0,len(diff_prob)) if not(np.isnan(diff_prob[i]))]\n",
    "    diff_prob2=[diff_prob[i] for i in diff_prob1]\n",
    "    diff_prob2=multipletests(diff_prob2,method='fdr_bh')[1]\n",
    "    for i in range(0,len(diff_prob1)):\n",
    "        diff_prob[diff_prob1[i]]=diff_prob2[i]\n",
    "    groupname=groupname.reset_index(drop=True)\n",
    "    names=groupname.ix[use_me]\n",
    "    df2 = pd.concat([names.ix[slope_order],df1.ix[slope_order]['diff_'+string]],1)\n",
    "    df2['diff_z_'+string]=diff_z\n",
    "    df2['diff_prob_'+string]=diff_prob\n",
    "    df2= pd.concat([df2,slope_rep1.ix[slope_order]],1)\n",
    "    return df2"
   ]
  },
  {
   "cell_type": "code",
   "execution_count": null,
   "metadata": {
    "collapsed": false
   },
   "outputs": [],
   "source": [
    "diff_rep1=diff_rep(diff_rep1,'rep1',Pgroups)\n",
    "diff_rep2=diff_rep(diff_rep2,'rep2',Pgroups)\n"
   ]
  },
  {
   "cell_type": "code",
   "execution_count": null,
   "metadata": {
    "collapsed": false
   },
   "outputs": [],
   "source": [
    "ctrl1fit=combine_col(ctrl1,'ctrl1')\n",
    "ctrl2fit=combine_col(ctrl2,'ctrl2')\n",
    "treated1fit=combine_col(treated1,'treated1')\n",
    "treated2fit=combine_col(treated2,'treated2')"
   ]
  },
  {
   "cell_type": "code",
   "execution_count": null,
   "metadata": {
    "collapsed": false
   },
   "outputs": [],
   "source": [
    "result=ctrl1fit.merge(treated1fit,on=[\"Protein Group Accessions\", \"Gene_Name\", \"Protein_Description\"]).merge(ctrl2fit,on=[\"Protein Group Accessions\", \"Gene_Name\", \"Protein_Description\"])\\\n",
    ".merge(treated2fit,on=[\"Protein Group Accessions\", \"Gene_Name\", \"Protein_Description\"]).merge(diff_rep1,on=[\"Protein Group Accessions\", \"Gene_Name\", \"Protein_Description\"])\\\n",
    ".merge(diff_rep2,on=[\"Protein Group Accessions\", \"Gene_Name\", \"Protein_Description\"])\n",
    "\n",
    "result.to_csv(path+'peptides_fit_aggr.csv',index=False)"
   ]
  },
  {
   "cell_type": "code",
   "execution_count": null,
   "metadata": {
    "collapsed": false
   },
   "outputs": [],
   "source": [
    "same_thermal_shift_direction = (result['diff_rep1'] < 0) == (result['diff_rep2'] < 0)\n",
    "slope_steep_enough = (result['slope_rep1'] < -0.06) | (result['slope_rep2'] < -0.06)\n",
    "thermal_shift_greater_than_difference_vehicle = np.fmin(map(abs,result['diff_rep1']),map(abs,result['diff_rep2'])) > map(abs,result['mp_ctrl1']-result['mp_ctrl2'])\n",
    "x = result[\"diff_prob_rep1\"] < 0.1\n",
    "y = result[\"diff_prob_rep2\"] < 0.1\n",
    "pvalue_criteria = (x == True) & (y == True)\n",
    "fulfills_all =  (same_thermal_shift_direction==True)  & (thermal_shift_greater_than_difference_vehicle == True) & (pvalue_criteria==True) & (slope_steep_enough==True)\n",
    "in_both_replicates = (~np.isnan(result[\"diff_rep1\"])) & (~np.isnan(result[\"diff_rep2\"]))"
   ]
  },
  {
   "cell_type": "code",
   "execution_count": null,
   "metadata": {
    "collapsed": false
   },
   "outputs": [],
   "source": [
    "criteria=pd.concat([same_thermal_shift_direction, slope_steep_enough, in_both_replicates,pd.Series(thermal_shift_greater_than_difference_vehicle), pvalue_criteria, fulfills_all],1)\n",
    "criteria=criteria.fillna(False)\n",
    "criteria.columns=['same_thermal_shift_direction', 'slope_steep_enough', 'in_both_replicates','thermal_shift_greater_than_difference_vehicle', 'pvalue_criteria', 'fulfills_all']\n",
    "result=pd.concat([result,criteria],1)"
   ]
  },
  {
   "cell_type": "code",
   "execution_count": null,
   "metadata": {
    "collapsed": false
   },
   "outputs": [],
   "source": [
    "res_temp=['A0A0A0MRV3','Q10567-3','P10412','Q9H501','A0A024R884','Q6AWC2-4','P49257','Q9Y6V0-2','P04181','P15104','Q15836','Q5MNZ9-2','Q9BY42','Q08426','Q9BTV6','P24666','Q14315','P08758','O14907','P06733-2','B4DIQ0','V9HVZ7','Q9NSV4-5','P36639-4','Q99805','P20248','Q8N3F4','P28161','O15400','Q6I9Y2','Q14258','O00330-3','B2RN10','Q9H845','Q562Z4','Q9UGR2-2','B2R5H0','Q8TB61-3','Q96PK6']"
   ]
  },
  {
   "cell_type": "code",
   "execution_count": null,
   "metadata": {
    "collapsed": false,
    "scrolled": true
   },
   "outputs": [],
   "source": [
    "result[(~(result['fulfills_all']==True))&(result['Protein Group Accessions'].isin(res_temp))]"
   ]
  },
  {
   "cell_type": "code",
   "execution_count": null,
   "metadata": {
    "collapsed": false
   },
   "outputs": [],
   "source": [
    "# result[result['fulfills_all']==True][['Protein Group Accessions','mp_ctrl1','mp_treated1','mp_ctrl2','mp_treated2']]\n",
    "result[result['fulfills_all']==True].shape"
   ]
  },
  {
   "cell_type": "code",
   "execution_count": null,
   "metadata": {
    "collapsed": false
   },
   "outputs": [],
   "source": [
    "result.to_csv(path+'result_aggr_end.csv',index=False)"
   ]
  }
 ],
 "metadata": {
  "kernelspec": {
   "display_name": "Python 2",
   "language": "python",
   "name": "python2"
  },
  "language_info": {
   "codemirror_mode": {
    "name": "ipython",
    "version": 2
   },
   "file_extension": ".py",
   "mimetype": "text/x-python",
   "name": "python",
   "nbconvert_exporter": "python",
   "pygments_lexer": "ipython2",
   "version": "2.7.12"
  }
 },
 "nbformat": 4,
 "nbformat_minor": 1
}
